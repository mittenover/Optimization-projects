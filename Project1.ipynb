{
 "cells": [
  {
   "cell_type": "markdown",
   "id": "3eb4b243",
   "metadata": {},
   "source": [
    "<center><h1>OPT202 - Numerical Project n.1 : An Articulated Chain</h1></center>"
   ]
  },
  {
   "cell_type": "markdown",
   "id": "7e7b58bb",
   "metadata": {},
   "source": [
    "\n",
    "<img src=\"Logo_ENSTA.png\" width=\"200px\">"
   ]
  },
  {
   "cell_type": "markdown",
   "id": "2d479d11-62c2-4494-ad02-9b63a7bc0b24",
   "metadata": {},
   "source": [
    "<center><h2><i>Emma de Charry et Lucien Perdrix</i></h2></center>"
   ]
  },
  {
   "cell_type": "markdown",
   "id": "d544bb69-b38e-43bb-91d6-5345324fdcc3",
   "metadata": {},
   "source": [
    "Based on the template of Mr.Andrea Simonetto, dated: 31/01/2023"
   ]
  },
  {
   "cell_type": "markdown",
   "id": "4451bd6a-eeee-470a-b1ef-3defe7f12dc4",
   "metadata": {},
   "source": [
    "<strong> Setting up </strong>"
   ]
  },
  {
   "cell_type": "code",
   "execution_count": 4,
   "id": "b38fe4d8-e64e-41f9-b451-5deae2d87928",
   "metadata": {},
   "outputs": [],
   "source": [
    "import numpy as np\n",
    "import matplotlib.pyplot as plt\n",
    "#import cvxpy as cp\n",
    "\n",
    "def cost(x):\n",
    "    N = int(len(x)/2)\n",
    "    e = np.zeros(2*N)\n",
    "    e[N:2*N] = np.ones(N)\n",
    "    return np.dot(e, x)\n",
    "\n",
    "def residual(x, L, a, b):\n",
    "    N = int(len(x) / 2)\n",
    "    # r for me is c(z), r for residual\n",
    "    r = np.zeros(N+1)\n",
    "    r[0] = (x[0] - 0.) ** 2 + (x[N] - 0.) ** 2 - L ** 2\n",
    "    for i in range(1,N):\n",
    "        r[i] = (x[i] - x[i-1])**2 + (x[N+i]-x[N+i - 1])**2 - L**2\n",
    "    r[N] = (a - x[N-1]) ** 2 + (b-x[2*N-1]) ** 2 - L ** 2\n",
    "    return r"
   ]
  },
  {
   "cell_type": "markdown",
   "id": "6ff9758d-761f-410a-8687-643fd210130c",
   "metadata": {},
   "source": [
    "Some more routines to plot the chain for later.. "
   ]
  },
  {
   "cell_type": "code",
   "execution_count": 5,
   "id": "0c622a83-916a-49b6-8f85-d2200f161fee",
   "metadata": {},
   "outputs": [],
   "source": [
    "def plot_chain(x, a, b, legend = []):\n",
    "    N = int(len(x) / 2)\n",
    "    xc = np.zeros(N+2)\n",
    "    yc = np.zeros(N+2)\n",
    "    xc[1:N+1] = x[0:N]\n",
    "    xc[N+1] = a\n",
    "    yc[1:N + 1] = x[N:2*N]\n",
    "    yc[N + 1] = b\n",
    "\n",
    "    plt.plot(xc,yc, 'ko-',label=\"Newton with convex relaxation initialization\") #This line has been added to untitled our figures\n",
    "    plt.grid()\n",
    "    plt.xlabel('x')\n",
    "    plt.ylabel('y')\n",
    "    plt.legend()\n",
    "    plt.savefig('Newtonwithcvxrelaxation2.jpg')  #This line has been added to save the figure \n",
    "    plt.show()"
   ]
  },
  {
   "cell_type": "markdown",
   "id": "49399a47-d3e3-4554-b314-71d0bdbcd5bd",
   "metadata": {},
   "source": [
    "<strong>Gradient</strong>"
   ]
  },
  {
   "cell_type": "code",
   "execution_count": 6,
   "id": "3f98c58c-2f04-4335-906d-20ab98013b81",
   "metadata": {},
   "outputs": [
    {
     "name": "stdout",
     "output_type": "stream",
     "text": [
      "NORM ERROR:  0.00628573526695775\n"
     ]
    }
   ],
   "source": [
    "def nabla_res(x, L, a, b):\n",
    "\n",
    "    N = int(len(x) / 2)\n",
    "    C = np.zeros([2*N, N+1])\n",
    "    for i in range(1,N):\n",
    "        C[i,i] = 2*(x[i]-x[i-1])\n",
    "        C[i+N,i] = 2*(x[i+N]-x[i-1+N])\n",
    "        if i<N-1:\n",
    "            C[i,i+1] = -2*(x[i+1]-x[i])\n",
    "            C[i+N,i+1] = -2*(x[i+1+N]-x[i+N])\n",
    "\n",
    "    C[0,0] = 2*(x[0]-0.)\n",
    "    C[N,0] = 2*(x[N]-0.)\n",
    "    C[0, 1] = 2 * (x[0] - x[1])\n",
    "    C[N, 1] = 2 * (x[N] - x[N+1])\n",
    "    C[N-1,N] = -2*(a-x[N-1])\n",
    "    C[2*N-1,N] = -2*(b-x[2*N-1])\n",
    "\n",
    "    return np.mat(C)\n",
    "\n",
    "def check_der(x, L, a, b):\n",
    "\n",
    "    dx = 0.01*np.random.random(2*N)\n",
    "    C = nabla_res(x, L, a, b)\n",
    "    der = (residual(x+dx, L, a, b) - residual(x, L, a, b)) - np.dot(nabla_res(x, L, a, b).transpose(), dx)\n",
    "    print('NORM ERROR: ', np.linalg.norm(der)/np.linalg.norm(dx))\n",
    "\n",
    "    return\n",
    "\n",
    "# Try and check:\n",
    "N = 5\n",
    "a,b = 1,-0.1\n",
    "x = np.zeros(2*N)\n",
    "x[0:N] = np.linspace(1./(N+1), a-1./(N+1), N)\n",
    "x[N:2*N] =[b*i -.1*(i-a/2.)**2 for i in x[0:N]]\n",
    "L = 0.25\n",
    "check_der(x,L,a,b)"
   ]
  },
  {
   "cell_type": "markdown",
   "id": "72afeb67-d25f-4d3a-8f34-a887dbf20b94",
   "metadata": {},
   "source": [
    "<h3> Newton's Method Elements</h3>"
   ]
  },
  {
   "cell_type": "code",
   "execution_count": 7,
   "id": "dc569c9f-70bc-4a5f-a94c-a19f9494f906",
   "metadata": {},
   "outputs": [
    {
     "name": "stdout",
     "output_type": "stream",
     "text": [
      "NORM ERROR :  1.3351321963199452e-17\n"
     ]
    }
   ],
   "source": [
    "def nabla_F(x, lbd):\n",
    "    \"\"\"\n",
    "    nabla_F computes the upper left block of the Newton's method Hessian\n",
    "    \"\"\"\n",
    "    N = int(len(x) / 2)\n",
    "    nF = np.zeros([2*N, 2*N])\n",
    "    for i in range(N):\n",
    "        if i>0:\n",
    "            nF[i,i-1] = -2*lbd[i]\n",
    "            nF[N + i, N + i - 1] = -2 * lbd[i]\n",
    "\n",
    "        nF[i, i] = 2 * (lbd[i]+lbd[i+1])\n",
    "        nF[N + i, N + i] = 2 * (lbd[i] + lbd[i + 1])\n",
    "\n",
    "\n",
    "        if i<N-1:\n",
    "            nF[i, i+1] = -2 * lbd[i+1]\n",
    "            nF[N+i, N+i + 1] = -2 * lbd[i + 1]\n",
    "\n",
    "    return nF\n",
    "\n",
    "def check_nF(x, lbd, L, a, b):\n",
    "    N = int(len(x) / 2)\n",
    "    dx = np.random.random(2*N)\n",
    "\n",
    "    df1 = np.dot(nabla_res(x+dx, L, a, b), lbd) - np.dot(nabla_res(x, L, a, b), lbd)\n",
    "    df2 = np.dot(nabla_F(x, lbd),dx)\n",
    "\n",
    "    print('NORM ERROR : ', np.linalg.norm(df1 - df2)/np.linalg.norm(dx))\n",
    "\n",
    "    return\n",
    "\n",
    "# marking sure Nabla F is correct\n",
    "lmbda = 0.1*np.random.random(N+1)\n",
    "check_nF(x, lmbda, L, a, b)"
   ]
  },
  {
   "cell_type": "code",
   "execution_count": 8,
   "id": "cfcc9092-af6f-43f3-9c9a-d1f89c197375",
   "metadata": {},
   "outputs": [],
   "source": [
    "def newton_iteration_elements(x, lbd, L, a, b):\n",
    "    N = int(len(x) / 2)\n",
    "    # build system\n",
    "    \n",
    "    A11 = nabla_F(x, lbd)\n",
    "    A12 = nabla_res(x, L, a, b)\n",
    "    A21 = A12.transpose()\n",
    "    A22 = np.zeros([N+1, N+1])\n",
    "    A1r = np.concatenate((A11, A12),axis=1)\n",
    "    A2r = np.concatenate((A21, A22),axis=1)\n",
    "    A = np.concatenate((A1r, A2r), axis=0)\n",
    "    #\n",
    "    e = np.zeros(2 * N)\n",
    "    e[N:2 * N] = np.ones(N)\n",
    "    rhs1 = e + np.dot(A12, lbd)\n",
    "    rhs2 = residual(x, L, a, b)\n",
    "    rhs = np.zeros([3*N+1])\n",
    "    rhs[:2*N] = rhs1\n",
    "    rhs[2*N:] = rhs2\n",
    "    \n",
    "    return A, rhs"
   ]
  },
  {
   "cell_type": "markdown",
   "id": "b8848466-5235-4af9-a9e3-bcd6126e0f51",
   "metadata": {},
   "source": [
    "<strong> Newton's iteration and solution </strong>"
   ]
  },
  {
   "cell_type": "code",
   "execution_count": 9,
   "id": "c5ef23cb-619f-4bcd-b8f6-2e4cffe508b9",
   "metadata": {},
   "outputs": [],
   "source": [
    "def newton_iteration(x, lbd, L, a, b, backtracking = True):\n",
    "    N = int(len(x) / 2)\n",
    "    # build system\n",
    "    A, rhs = newton_iteration_elements(x, lbd, L, a, b)\n",
    "\n",
    "    # solve system\n",
    "    d=-np.linalg.solve(A,rhs)\n",
    "    if(backtracking==True) : \n",
    "        d = np.linalg.solve(-A,rhs)\n",
    "        t = 1\n",
    "        beta = 1/2\n",
    "        alpha = 1/4\n",
    "        while np.linalg.norm(newton_iteration_elements(x+t*d[:2*N],lbd+t*d[2*N:],L,a,b)[1]) > (1-alpha*t)*np.linalg.norm(newton_iteration_elements(x,lbd,L,a,b)[1]) :\n",
    "            t = beta*t\n",
    "        x += t*d[:2*N]\n",
    "        lbd += t*d[2*N:]\n",
    "        gap = np.linalg.norm(newton_iteration_elements(x,lbd,L,a,b)[1])\n",
    "    elif(backtracking==False): \n",
    "        d = -np.linalg.solve(A,rhs)\n",
    "        x += d[:2*N]\n",
    "        lbd += d[2*N:]\n",
    "        gap = np.linalg.norm(newton_iteration_elements(x,lbd,L,a,b)[1])\n",
    "    return x, lbd, gap\n",
    "\n",
    "def solve_chain(x0, lbd0, L, a, b, Nmax = 100, tol = 1e-6, backtracking = True):\n",
    "\n",
    "    \"\"\"\n",
    "    this solves the chain with your Newton method. This controls the number of iterations and \n",
    "    the stopping criterion\n",
    "    \"\"\"\n",
    "    err,n = 1,0\n",
    "    x = x0\n",
    "    lbd = lbd0\n",
    "    g = list()\n",
    "    while (n<Nmax) and (err>tol):\n",
    "        n+=1\n",
    "        \n",
    "        x, lbd, gap = newton_iteration(x, lbd, L, a, b, backtracking = backtracking)\n",
    "        \n",
    "        g.append(gap)\n",
    "        err = gap\n",
    "\n",
    "    return x, lbd, g\n",
    "\n",
    "def check_stationarity(x, lbd, gap):\n",
    "\n",
    "    if gap[-1]<1e-3:\n",
    "        F = nabla_F(x, lbd)\n",
    "        e, dummy = np.linalg.eigh(F)\n",
    "        print('Eigenvalues : ', np.min(e), np.max(e))\n",
    "        if np.min(e)>0:\n",
    "            print('A local optimizer found')\n",
    "    return\n",
    "\n",
    "def plot_convergence(opt_gap): \n",
    "    \n",
    "    plt.loglog(opt_gap, 'o-',label=\"Newton with backtr\")\n",
    "    plt.grid()\n",
    "    plt.xlabel('Iteration count')\n",
    "    plt.ylabel('Optimality gap (norm residual)')\n",
    "    plt.legend()\n",
    "    plt.show()"
   ]
  },
  {
   "cell_type": "markdown",
   "id": "bfc22405-b59a-43e2-9c6e-5f3b2e9cf408",
   "metadata": {},
   "source": [
    "<strong> Examples </strong>"
   ]
  },
  {
   "cell_type": "code",
   "execution_count": 10,
   "id": "eaf7585f-03c0-4d2d-b33c-0e4d830a77af",
   "metadata": {
    "scrolled": true
   },
   "outputs": [
    {
     "name": "stdout",
     "output_type": "stream",
     "text": [
      "Eigenvalues :  2.4794047569225617 27.105799048611605\n",
      "A local optimizer found\n"
     ]
    },
    {
     "data": {
      "image/png": "[encoded data removed]",
      "text/plain": [
       "<Figure size 432x288 with 1 Axes>"
      ]
     },
     "metadata": {
      "needs_background": "light"
     },
     "output_type": "display_data"
    },
    {
     "data": {
      "image/png": "[encoded data removed]",
      "text/plain": [
       "<Figure size 432x288 with 1 Axes>"
      ]
     },
     "metadata": {
      "needs_background": "light"
     },
     "output_type": "display_data"
    }
   ],
   "source": [
    "N = 5\n",
    "L = 0.25\n",
    "a,b = 1.,-.1\n",
    "x = np.zeros(2*N)\n",
    "x[0:N] = np.linspace(1./(N+1), a-1./(N+1), N)\n",
    "x[N:2*N] =[b*i -.1*(i-a/2.)**2 for i in x[0:N]]\n",
    "lmbda = 0.1*np.random.random(N+1)\n",
    "\n",
    "x_sol, lmbda_sol, opt_gap = solve_chain(x, lmbda, L, a, b, Nmax = 100, tol = 1e-6, backtracking = True)\n",
    "check_stationarity(x_sol, lmbda_sol, opt_gap)\n",
    "plot_convergence(opt_gap)\n",
    "plot_chain(x_sol, a, b)"
   ]
  },
  {
   "cell_type": "markdown",
   "id": "7f82063a",
   "metadata": {},
   "source": [
    "### Comparaison de la convergence avec et sans backtracking"
   ]
  },
  {
   "cell_type": "code",
   "execution_count": 11,
   "id": "b953cc9d",
   "metadata": {},
   "outputs": [],
   "source": [
    "def plot_convergence2(opt_gap,name): \n",
    "    \n",
    "    plt.loglog(opt_gap, 'o-',label=name)\n",
    "    plt.grid()\n",
    "    plt.xlabel('Iteration count')\n",
    "    plt.ylabel('Optimality gap (norm residual)')"
   ]
  },
  {
   "cell_type": "code",
   "execution_count": 12,
   "id": "47f3df52",
   "metadata": {},
   "outputs": [
    {
     "data": {
      "image/png": "[encoded data removed]",
      "text/plain": [
       "<Figure size 432x288 with 1 Axes>"
      ]
     },
     "metadata": {
      "needs_background": "light"
     },
     "output_type": "display_data"
    }
   ],
   "source": [
    "N = 10\n",
    "L = 0.11\n",
    "a,b = 1.,-.4\n",
    "x = np.zeros(2*N)\n",
    "x[0:N] = np.linspace(1./(N+1), a-1./(N+1), N)\n",
    "x[N:2*N] =[b*i -.1*(i-a/2.)**2 for i in x[0:N]]\n",
    "lmbda = 0.1*np.random.random(N+1)\n",
    "\n",
    "x_sol, lmbda_sol, opt_gap2 = solve_chain(x, lmbda, L, a, b, Nmax = 100, tol = 1e-6, backtracking = False)\n",
    "plot_convergence2(opt_gap2,\"Newton without backtr\")\n",
    "\n",
    "\n",
    "N = 10\n",
    "L = 0.11\n",
    "a,b = 1.,-.4\n",
    "x = np.zeros(2*N)\n",
    "x[0:N] = np.linspace(1./(N+1), a-1./(N+1), N)\n",
    "x[N:2*N] =[b*i -.1*(i-a/2.)**2 for i in x[0:N]]\n",
    "lmbda = 0.1*np.random.random(N+1)\n",
    "\n",
    "x_sol, lmbda_sol, opt_gap1 = solve_chain(x, lmbda, L, a, b, Nmax = 100, tol = 1e-6, backtracking = True)\n",
    "plot_convergence2(opt_gap1,\"Newton with backtr\")\n",
    "\n",
    "plt.ylim(0.00000000001,1000000000000)\n",
    "plt.legend()\n",
    "plt.savefig(\"Comparisonbacktrack2.jpg\")\n",
    "plt.show()"
   ]
  },
  {
   "cell_type": "markdown",
   "id": "1777ad93",
   "metadata": {},
   "source": [
    "## Convex relaxation"
   ]
  },
  {
   "cell_type": "markdown",
   "id": "afaae615",
   "metadata": {},
   "source": [
    "### Q7"
   ]
  },
  {
   "cell_type": "code",
   "execution_count": 13,
   "id": "e6f7525d",
   "metadata": {},
   "outputs": [
    {
     "name": "stdout",
     "output_type": "stream",
     "text": [
      "Requirement already satisfied: cvxpy in c:\\users\\lucie\\anaconda3\\lib\\site-packages (1.3.0)\n",
      "Requirement already satisfied: numpy>=1.15 in c:\\users\\lucie\\anaconda3\\lib\\site-packages (from cvxpy) (1.20.3)\n",
      "Requirement already satisfied: scs>=1.1.6 in c:\\users\\lucie\\anaconda3\\lib\\site-packages (from cvxpy) (3.2.2)\n",
      "Requirement already satisfied: setuptools<=64.0.2 in c:\\users\\lucie\\anaconda3\\lib\\site-packages (from cvxpy) (58.0.4)\n",
      "Requirement already satisfied: osqp>=0.4.1 in c:\\users\\lucie\\anaconda3\\lib\\site-packages (from cvxpy) (0.6.2.post8)\n",
      "Requirement already satisfied: ecos>=2 in c:\\users\\lucie\\anaconda3\\lib\\site-packages (from cvxpy) (2.0.12)\n",
      "Requirement already satisfied: scipy>=1.1.0 in c:\\users\\lucie\\anaconda3\\lib\\site-packages (from cvxpy) (1.7.1)\n",
      "Requirement already satisfied: qdldl in c:\\users\\lucie\\anaconda3\\lib\\site-packages (from osqp>=0.4.1->cvxpy) (0.1.5.post3)\n",
      "Note: you may need to restart the kernel to use updated packages.\n"
     ]
    }
   ],
   "source": [
    "%pip install cvxpy"
   ]
  },
  {
   "cell_type": "code",
   "execution_count": 14,
   "id": "5a0284e2",
   "metadata": {},
   "outputs": [],
   "source": [
    "import cvxpy as cp"
   ]
  },
  {
   "cell_type": "code",
   "execution_count": 15,
   "id": "e56d7e7a",
   "metadata": {},
   "outputs": [
    {
     "data": {
      "text/plain": [
       "-4.006706105845463"
      ]
     },
     "execution_count": 15,
     "metadata": {},
     "output_type": "execute_result"
    }
   ],
   "source": [
    "N=10\n",
    "L = 0.11\n",
    "a,b = 1.,-.4\n",
    "u=cp.Variable((N+2,2))\n",
    "X=cp.Variable((N+2,N+2),symmetric=True)\n",
    "M = cp.bmat([[np.eye(2),u.T], [u,X]])\n",
    "constraints=[]\n",
    "constraints += [M >> 0]\n",
    "objectiv=cp.Minimize(cp.sum(u[:,1]))\n",
    "for i in range(N+1):\n",
    "    constraints+=[X[i,i]-2*X[i,i+1]+X[i+1,i+1]-L**2==0]\n",
    "\n",
    "constraints+=[u[0,:]==(0,0)]\n",
    "constraints+=[u[N+1,:]==(a,b)]\n",
    "constraints+=[X[0,0]==0]\n",
    "constraints+=[X[N+1,N+1]==a**2+b**2]\n",
    "\n",
    "prob=cp.Problem(objectiv,constraints)\n",
    "prob.solve()\n"
   ]
  },
  {
   "cell_type": "code",
   "execution_count": 16,
   "id": "4741b24f",
   "metadata": {},
   "outputs": [
    {
     "data": {
      "text/plain": [
       "12"
      ]
     },
     "execution_count": 16,
     "metadata": {},
     "output_type": "execute_result"
    }
   ],
   "source": [
    "np.linalg.matrix_rank(X.value)"
   ]
  },
  {
   "cell_type": "code",
   "execution_count": 17,
   "id": "b45dc8dd",
   "metadata": {},
   "outputs": [
    {
     "name": "stdout",
     "output_type": "stream",
     "text": [
      "Eigenvalues :  4.811793465326193 252.50370180216726\n",
      "A local optimizer found\n",
      "Eigenvalues :  4.811793465326193 252.50370180216726\n",
      "A local optimizer found\n"
     ]
    },
    {
     "data": {
      "image/png": "[encoded data removed]",
      "text/plain": [
       "<Figure size 432x288 with 1 Axes>"
      ]
     },
     "metadata": {
      "needs_background": "light"
     },
     "output_type": "display_data"
    },
    {
     "data": {
      "image/png": "[encoded data removed]",
      "text/plain": [
       "<Figure size 432x288 with 1 Axes>"
      ]
     },
     "metadata": {
      "needs_background": "light"
     },
     "output_type": "display_data"
    }
   ],
   "source": [
    "N = 10\n",
    "L = 0.11\n",
    "a,b = 1.,-.4\n",
    "x=np.zeros(2*N)\n",
    "x[0:N]=u.value[1:N+1,0]\n",
    "x[N:2*N]=u.value[1:N+1,1]\n",
    "lmbda = 0.1*np.random.random(N+1)\n",
    "\n",
    "x_sol, lmbda_sol, opt_gap = solve_chain(x, lmbda, L, a, b, Nmax = 100, tol = 1e-6, backtracking = True)\n",
    "check_stationarity(x,lmbda_sol,opt_gap)\n",
    "check_stationarity(x_sol, lmbda_sol, opt_gap)\n",
    "plot_convergence(opt_gap)\n",
    "plot_chain(x_sol, a, b)"
   ]
  },
  {
   "cell_type": "markdown",
   "id": "15e1e478",
   "metadata": {},
   "source": [
    "### Affichage des 3 courbes de gap optimality sur le même graphique"
   ]
  },
  {
   "cell_type": "code",
   "execution_count": 19,
   "id": "00290b89",
   "metadata": {},
   "outputs": [
    {
     "data": {
      "image/png": "[encoded data removed]",
      "text/plain": [
       "<Figure size 432x288 with 1 Axes>"
      ]
     },
     "metadata": {
      "needs_background": "light"
     },
     "output_type": "display_data"
    }
   ],
   "source": [
    "N = 5\n",
    "L = 0.25\n",
    "a,b = 1.,-.1\n",
    "x = np.zeros(2*N)\n",
    "x[0:N] = np.linspace(1./(N+1), a-1./(N+1), N)\n",
    "x[N:2*N] =[b*i -.1*(i-a/2.)**2 for i in x[0:N]]\n",
    "lmbda = 0.1*np.random.random(N+1)\n",
    "\n",
    "x_sol, lmbda_sol, opt_gap2 = solve_chain(x, lmbda, L, a, b, Nmax = 100, tol = 1e-6, backtracking = False)\n",
    "plot_convergence2(opt_gap2,\"Newton without backtr\")\n",
    "\n",
    "\n",
    "N = 5\n",
    "L = 0.25\n",
    "a,b = 1.,-.1\n",
    "x = np.zeros(2*N)\n",
    "x[0:N] = np.linspace(1./(N+1), a-1./(N+1), N)\n",
    "x[N:2*N] =[b*i -.1*(i-a/2.)**2 for i in x[0:N]]\n",
    "lmbda = 0.1*np.random.random(N+1)\n",
    "\n",
    "x_sol, lmbda_sol, opt_gap1 = solve_chain(x, lmbda, L, a, b, Nmax = 100, tol = 1e-6, backtracking = True)\n",
    "plot_convergence2(opt_gap1,\"Newton with backtr\")\n",
    "\n",
    "N=5\n",
    "L = 0.25\n",
    "a,b = 1.,-.1\n",
    "u=cp.Variable((N+2,2))\n",
    "X=cp.Variable((N+2,N+2),symmetric=True)\n",
    "M = cp.bmat([[np.eye(2),u.T], [u,X]])\n",
    "constraints=[]\n",
    "constraints += [M >> 0]\n",
    "objectiv=cp.Minimize(cp.sum(u[:,1]))\n",
    "for i in range(N+1):\n",
    "    constraints+=[X[i,i]-2*X[i,i+1]+X[i+1,i+1]-L**2==0]\n",
    "\n",
    "constraints+=[u[0,:]==(0,0)]\n",
    "constraints+=[u[N+1,:]==(a,b)]\n",
    "constraints+=[X[0,0]==0]\n",
    "constraints+=[X[N+1,N+1]==a**2+b**2]\n",
    "\n",
    "prob=cp.Problem(objectiv,constraints)\n",
    "prob.solve()\n",
    "x=np.zeros(2*N)\n",
    "x[0:N]=u.value[1:N+1,0]\n",
    "x[N:2*N]=u.value[1:N+1,1]\n",
    "lmbda = 0.1*np.random.random(N+1)\n",
    "x_sol, lmbda_sol, opt_gap3 = solve_chain(x, lmbda, L, a, b, Nmax = 100, tol = 1e-6, backtracking = False)\n",
    "plot_convergence2(opt_gap3,\"Newton no backtr with cvx initial\")\n",
    "\n",
    "plt.title(\"Evolution of the optimality gap for 3 different methods (N=5, L=0.25, a=1, b=-0.1)\")\n",
    "plt.ylim(0.00000000001,1000000000000)\n",
    "plt.savefig(\"optgap.jpg\")\n",
    "plt.legend()\n",
    "plt.show()"
   ]
  },
  {
   "cell_type": "code",
   "execution_count": null,
   "id": "cbcfd886",
   "metadata": {},
   "outputs": [],
   "source": []
  }
 ],
 "metadata": {
  "kernelspec": {
   "display_name": "Python 3 (ipykernel)",
   "language": "python",
   "name": "python3"
  },
  "language_info": {
   "codemirror_mode": {
    "name": "ipython",
    "version": 3
   },
   "file_extension": ".py",
   "mimetype": "text/x-python",
   "name": "python",
   "nbconvert_exporter": "python",
   "pygments_lexer": "ipython3",
   "version": "3.9.7"
  }
 },
 "nbformat": 4,
 "nbformat_minor": 5
}
